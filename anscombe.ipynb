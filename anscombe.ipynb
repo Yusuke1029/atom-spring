{
 "cells": [
  {
   "cell_type": "code",
   "execution_count": 2,
   "metadata": {},
   "outputs": [
    {
     "ename": "ModuleNotFoundError",
     "evalue": "No module named 'pandas'",
     "output_type": "error",
     "traceback": [
      "\u001b[1;31m---------------------------------------------------------------------------\u001b[0m",
      "\u001b[1;31mModuleNotFoundError\u001b[0m                       Traceback (most recent call last)",
      "Cell \u001b[1;32mIn[2], line 1\u001b[0m\n\u001b[1;32m----> 1\u001b[0m \u001b[38;5;28;01mimport\u001b[39;00m\u001b[38;5;250m \u001b[39m\u001b[38;5;21;01mpandas\u001b[39;00m\u001b[38;5;250m \u001b[39m\u001b[38;5;28;01mas\u001b[39;00m\u001b[38;5;250m \u001b[39m\u001b[38;5;21;01mpd\u001b[39;00m\n\u001b[0;32m      2\u001b[0m \u001b[38;5;28;01mimport\u001b[39;00m\u001b[38;5;250m \u001b[39m\u001b[38;5;21;01mmatplotlib\u001b[39;00m\u001b[38;5;21;01m.\u001b[39;00m\u001b[38;5;21;01mpyplot\u001b[39;00m\u001b[38;5;250m \u001b[39m\u001b[38;5;28;01mas\u001b[39;00m\u001b[38;5;250m \u001b[39m\u001b[38;5;21;01mplt\u001b[39;00m\n\u001b[0;32m      3\u001b[0m \u001b[38;5;28;01mimport\u001b[39;00m\u001b[38;5;250m \u001b[39m\u001b[38;5;21;01mnumpy\u001b[39;00m\u001b[38;5;250m \u001b[39m\u001b[38;5;28;01mas\u001b[39;00m\u001b[38;5;250m \u001b[39m\u001b[38;5;21;01mnp\u001b[39;00m\n",
      "\u001b[1;31mModuleNotFoundError\u001b[0m: No module named 'pandas'"
     ]
    }
   ],
   "source": [
    "import pandas as pd\n",
    "import matplotlib.pyplot as plt\n",
    "import numpy as np\n",
    "from scipy import stats\n",
    "import json\n",
    "\n",
    "# Load the JSON data\n",
    "with open('anscombe.json', 'r') as file:\n",
    "    data = json.load(file)\n",
    "\n",
    "# Convert to DataFrame\n",
    "df = pd.DataFrame(data)\n",
    "\n",
    "# Create figure and subplots\n",
    "fig, axes = plt.subplots(2, 2, figsize=(12, 10), sharex=True, sharey=True)\n",
    "axes = axes.flatten()\n",
    "\n",
    "# Get unique series\n",
    "series_names = df['Series'].unique()\n",
    "\n",
    "# Find global min and max for x and y to set consistent axes\n",
    "x_min = df['X'].min()\n",
    "x_max = df['X'].max()\n",
    "y_min = df['Y'].min()\n",
    "y_max = df['Y'].max()\n",
    "\n",
    "# Add some padding\n",
    "x_padding = (x_max - x_min) * 0.1\n",
    "y_padding = (y_max - y_min) * 0.1\n",
    "\n",
    "# Process each series\n",
    "for i, series in enumerate(sorted(series_names)):\n",
    "    # Filter data for this series\n",
    "    series_data = df[df['Series'] == series]\n",
    "    x = series_data['X']\n",
    "    y = series_data['Y']\n",
    "    \n",
    "    # Perform linear regression\n",
    "    slope, intercept, r_value, p_value, std_err = stats.linregress(x, y)\n",
    "    line_x = np.array([x_min, x_max])\n",
    "    line_y = slope * line_x + intercept\n",
    "    \n",
    "    # Plot data points\n",
    "    axes[i].scatter(x, y, color='blue', label='Data points')\n",
    "    \n",
    "    # Plot regression line\n",
    "    axes[i].plot(line_x, line_y, color='red', \n",
    "                 label=f'y = {slope:.3f}x + {intercept:.3f}\\nR² = {r_value**2:.3f}')\n",
    "    \n",
    "    # Set plot title\n",
    "    axes[i].set_title(f'Series {series}')\n",
    "    \n",
    "    # Set axes limits\n",
    "    axes[i].set_xlim(x_min - x_padding, x_max + x_padding)\n",
    "    axes[i].set_ylim(y_min - y_padding, y_max + y_padding)\n",
    "    \n",
    "    # Add legend\n",
    "    axes[i].legend()\n",
    "    \n",
    "    # Add grid\n",
    "    axes[i].grid(True, linestyle='--', alpha=0.7)\n",
    "    \n",
    "    # Add x and y labels\n",
    "    axes[i].set_xlabel('X')\n",
    "    axes[i].set_ylabel('Y')\n",
    "\n",
    "# Adjust layout\n",
    "plt.tight_layout()\n",
    "plt.show()"
   ]
  }
 ],
 "metadata": {
  "kernelspec": {
   "display_name": "ai_workshop",
   "language": "python",
   "name": "python3"
  },
  "language_info": {
   "codemirror_mode": {
    "name": "ipython",
    "version": 3
   },
   "file_extension": ".py",
   "mimetype": "text/x-python",
   "name": "python",
   "nbconvert_exporter": "python",
   "pygments_lexer": "ipython3",
   "version": "3.12.8"
  }
 },
 "nbformat": 4,
 "nbformat_minor": 2
}
